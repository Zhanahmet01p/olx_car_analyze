{
 "cells": [
  {
   "metadata": {},
   "cell_type": "raw",
   "source": "",
   "id": "cd8a9785efcc094a"
  },
  {
   "metadata": {
    "ExecuteTime": {
     "end_time": "2025-04-16T13:13:50.594671Z",
     "start_time": "2025-04-16T13:13:50.590959Z"
    }
   },
   "cell_type": "code",
   "source": [
    "import pandas as pd\n",
    "df = pd.read_csv(\"../data/raw/olx_cars.csv\")"
   ],
   "id": "7bcfa3c4f459ed98",
   "outputs": [],
   "execution_count": 2
  },
  {
   "metadata": {
    "ExecuteTime": {
     "end_time": "2025-04-16T13:14:02.068857Z",
     "start_time": "2025-04-16T13:14:02.063579Z"
    }
   },
   "cell_type": "code",
   "source": "df.head()",
   "id": "f7ce43dd43dff208",
   "outputs": [
    {
     "data": {
      "text/plain": [
       "                                              title  price_pln    model  year  \\\n",
       "0                              Ford focus se 165 KM      29900    Focus  2016   \n",
       "1                              Ford focus se 165 KM      29900    Focus  2016   \n",
       "2  Alfa Romeo Stelvio Salon Polska Jeden właściciel     119900  Stelvio  2021   \n",
       "3  Alfa Romeo Stelvio Salon Polska Jeden właściciel     119900  Stelvio  2021   \n",
       "4                       Volvo XC60 3,2 benzyna 2013      45000       60  2013   \n",
       "\n",
       "   mileage_km     fuel  transmission  \\\n",
       "0       76000  Benzyna  Automatyczna   \n",
       "1       76000  Benzyna  Automatyczna   \n",
       "2       93000  Benzyna  Automatyczna   \n",
       "3       93000  Benzyna  Automatyczna   \n",
       "4      200000  Benzyna  Automatyczna   \n",
       "\n",
       "                                           image_url  \n",
       "0  https://ireland.apollo.olxcdn.com:443/v1/files...  \n",
       "1  https://ireland.apollo.olxcdn.com:443/v1/files...  \n",
       "2  https://ireland.apollo.olxcdn.com:443/v1/files...  \n",
       "3  https://ireland.apollo.olxcdn.com:443/v1/files...  \n",
       "4  https://ireland.apollo.olxcdn.com:443/v1/files...  "
      ],
      "text/html": [
       "<div>\n",
       "<style scoped>\n",
       "    .dataframe tbody tr th:only-of-type {\n",
       "        vertical-align: middle;\n",
       "    }\n",
       "\n",
       "    .dataframe tbody tr th {\n",
       "        vertical-align: top;\n",
       "    }\n",
       "\n",
       "    .dataframe thead th {\n",
       "        text-align: right;\n",
       "    }\n",
       "</style>\n",
       "<table border=\"1\" class=\"dataframe\">\n",
       "  <thead>\n",
       "    <tr style=\"text-align: right;\">\n",
       "      <th></th>\n",
       "      <th>title</th>\n",
       "      <th>price_pln</th>\n",
       "      <th>model</th>\n",
       "      <th>year</th>\n",
       "      <th>mileage_km</th>\n",
       "      <th>fuel</th>\n",
       "      <th>transmission</th>\n",
       "      <th>image_url</th>\n",
       "    </tr>\n",
       "  </thead>\n",
       "  <tbody>\n",
       "    <tr>\n",
       "      <th>0</th>\n",
       "      <td>Ford focus se 165 KM</td>\n",
       "      <td>29900</td>\n",
       "      <td>Focus</td>\n",
       "      <td>2016</td>\n",
       "      <td>76000</td>\n",
       "      <td>Benzyna</td>\n",
       "      <td>Automatyczna</td>\n",
       "      <td>https://ireland.apollo.olxcdn.com:443/v1/files...</td>\n",
       "    </tr>\n",
       "    <tr>\n",
       "      <th>1</th>\n",
       "      <td>Ford focus se 165 KM</td>\n",
       "      <td>29900</td>\n",
       "      <td>Focus</td>\n",
       "      <td>2016</td>\n",
       "      <td>76000</td>\n",
       "      <td>Benzyna</td>\n",
       "      <td>Automatyczna</td>\n",
       "      <td>https://ireland.apollo.olxcdn.com:443/v1/files...</td>\n",
       "    </tr>\n",
       "    <tr>\n",
       "      <th>2</th>\n",
       "      <td>Alfa Romeo Stelvio Salon Polska Jeden właściciel</td>\n",
       "      <td>119900</td>\n",
       "      <td>Stelvio</td>\n",
       "      <td>2021</td>\n",
       "      <td>93000</td>\n",
       "      <td>Benzyna</td>\n",
       "      <td>Automatyczna</td>\n",
       "      <td>https://ireland.apollo.olxcdn.com:443/v1/files...</td>\n",
       "    </tr>\n",
       "    <tr>\n",
       "      <th>3</th>\n",
       "      <td>Alfa Romeo Stelvio Salon Polska Jeden właściciel</td>\n",
       "      <td>119900</td>\n",
       "      <td>Stelvio</td>\n",
       "      <td>2021</td>\n",
       "      <td>93000</td>\n",
       "      <td>Benzyna</td>\n",
       "      <td>Automatyczna</td>\n",
       "      <td>https://ireland.apollo.olxcdn.com:443/v1/files...</td>\n",
       "    </tr>\n",
       "    <tr>\n",
       "      <th>4</th>\n",
       "      <td>Volvo XC60 3,2 benzyna 2013</td>\n",
       "      <td>45000</td>\n",
       "      <td>60</td>\n",
       "      <td>2013</td>\n",
       "      <td>200000</td>\n",
       "      <td>Benzyna</td>\n",
       "      <td>Automatyczna</td>\n",
       "      <td>https://ireland.apollo.olxcdn.com:443/v1/files...</td>\n",
       "    </tr>\n",
       "  </tbody>\n",
       "</table>\n",
       "</div>"
      ]
     },
     "execution_count": 3,
     "metadata": {},
     "output_type": "execute_result"
    }
   ],
   "execution_count": 3
  },
  {
   "metadata": {},
   "cell_type": "markdown",
   "source": "<h1>Analyse problem</h1>",
   "id": "a1c48096695a05ea"
  },
  {
   "metadata": {
    "ExecuteTime": {
     "end_time": "2025-04-16T13:16:40.828087Z",
     "start_time": "2025-04-16T13:16:40.824033Z"
    }
   },
   "cell_type": "code",
   "source": "df.isnull().sum()",
   "id": "d5c41f1bd94c7176",
   "outputs": [
    {
     "data": {
      "text/plain": [
       "title           0\n",
       "price_pln       0\n",
       "model           2\n",
       "year            0\n",
       "mileage_km      0\n",
       "fuel            0\n",
       "transmission    0\n",
       "image_url       0\n",
       "dtype: int64"
      ]
     },
     "execution_count": 4,
     "metadata": {},
     "output_type": "execute_result"
    }
   ],
   "execution_count": 4
  },
  {
   "metadata": {
    "ExecuteTime": {
     "end_time": "2025-04-16T13:16:57.322916Z",
     "start_time": "2025-04-16T13:16:57.313417Z"
    }
   },
   "cell_type": "code",
   "source": "df[[\"price_pln\", \"mileage_km\"]].describe()",
   "id": "4df5d8fcaaceeff4",
   "outputs": [
    {
     "data": {
      "text/plain": [
       "           price_pln     mileage_km\n",
       "count     249.000000     249.000000\n",
       "mean    40459.477912  185705.373494\n",
       "std     41608.574366   94999.531672\n",
       "min      2990.000000      10.000000\n",
       "25%     16900.000000  135000.000000\n",
       "50%     32900.000000  190000.000000\n",
       "75%     53999.000000  260000.000000\n",
       "max    369000.000000  440000.000000"
      ],
      "text/html": [
       "<div>\n",
       "<style scoped>\n",
       "    .dataframe tbody tr th:only-of-type {\n",
       "        vertical-align: middle;\n",
       "    }\n",
       "\n",
       "    .dataframe tbody tr th {\n",
       "        vertical-align: top;\n",
       "    }\n",
       "\n",
       "    .dataframe thead th {\n",
       "        text-align: right;\n",
       "    }\n",
       "</style>\n",
       "<table border=\"1\" class=\"dataframe\">\n",
       "  <thead>\n",
       "    <tr style=\"text-align: right;\">\n",
       "      <th></th>\n",
       "      <th>price_pln</th>\n",
       "      <th>mileage_km</th>\n",
       "    </tr>\n",
       "  </thead>\n",
       "  <tbody>\n",
       "    <tr>\n",
       "      <th>count</th>\n",
       "      <td>249.000000</td>\n",
       "      <td>249.000000</td>\n",
       "    </tr>\n",
       "    <tr>\n",
       "      <th>mean</th>\n",
       "      <td>40459.477912</td>\n",
       "      <td>185705.373494</td>\n",
       "    </tr>\n",
       "    <tr>\n",
       "      <th>std</th>\n",
       "      <td>41608.574366</td>\n",
       "      <td>94999.531672</td>\n",
       "    </tr>\n",
       "    <tr>\n",
       "      <th>min</th>\n",
       "      <td>2990.000000</td>\n",
       "      <td>10.000000</td>\n",
       "    </tr>\n",
       "    <tr>\n",
       "      <th>25%</th>\n",
       "      <td>16900.000000</td>\n",
       "      <td>135000.000000</td>\n",
       "    </tr>\n",
       "    <tr>\n",
       "      <th>50%</th>\n",
       "      <td>32900.000000</td>\n",
       "      <td>190000.000000</td>\n",
       "    </tr>\n",
       "    <tr>\n",
       "      <th>75%</th>\n",
       "      <td>53999.000000</td>\n",
       "      <td>260000.000000</td>\n",
       "    </tr>\n",
       "    <tr>\n",
       "      <th>max</th>\n",
       "      <td>369000.000000</td>\n",
       "      <td>440000.000000</td>\n",
       "    </tr>\n",
       "  </tbody>\n",
       "</table>\n",
       "</div>"
      ]
     },
     "execution_count": 5,
     "metadata": {},
     "output_type": "execute_result"
    }
   ],
   "execution_count": 5
  },
  {
   "metadata": {
    "ExecuteTime": {
     "end_time": "2025-04-16T13:18:02.859472Z",
     "start_time": "2025-04-16T13:18:02.854825Z"
    }
   },
   "cell_type": "code",
   "source": "df.duplicated().sum()",
   "id": "878018f517571335",
   "outputs": [
    {
     "data": {
      "text/plain": [
       "128"
      ]
     },
     "execution_count": 6,
     "metadata": {},
     "output_type": "execute_result"
    }
   ],
   "execution_count": 6
  },
  {
   "metadata": {},
   "cell_type": "markdown",
   "source": "<h1>Cleaning</h1>",
   "id": "86c81f3cbf955a07"
  },
  {
   "metadata": {
    "ExecuteTime": {
     "end_time": "2025-04-16T13:19:32.095260Z",
     "start_time": "2025-04-16T13:19:32.092842Z"
    }
   },
   "cell_type": "code",
   "source": "df = df.drop_duplicates()",
   "id": "41b5516a48ff2907",
   "outputs": [],
   "execution_count": 7
  },
  {
   "metadata": {
    "ExecuteTime": {
     "end_time": "2025-04-16T13:19:41.201057Z",
     "start_time": "2025-04-16T13:19:41.197713Z"
    }
   },
   "cell_type": "code",
   "source": "df[\"mileage_km\"].fillna(df[\"mileage_km\"].median(), inplace=True)",
   "id": "a01b37b023d2420c",
   "outputs": [
    {
     "name": "stderr",
     "output_type": "stream",
     "text": [
      "/var/folders/l6/xzbwcxwj1nv2l8nwwcsc471w0000gn/T/ipykernel_28404/2085673794.py:1: FutureWarning: A value is trying to be set on a copy of a DataFrame or Series through chained assignment using an inplace method.\n",
      "The behavior will change in pandas 3.0. This inplace method will never work because the intermediate object on which we are setting values always behaves as a copy.\n",
      "\n",
      "For example, when doing 'df[col].method(value, inplace=True)', try using 'df.method({col: value}, inplace=True)' or df[col] = df[col].method(value) instead, to perform the operation inplace on the original object.\n",
      "\n",
      "\n",
      "  df[\"mileage_km\"].fillna(df[\"mileage_km\"].median(), inplace=True)\n"
     ]
    }
   ],
   "execution_count": 8
  },
  {
   "metadata": {
    "ExecuteTime": {
     "end_time": "2025-04-16T13:19:54.120800Z",
     "start_time": "2025-04-16T13:19:54.116075Z"
    }
   },
   "cell_type": "code",
   "source": "df = pd.get_dummies(df, columns=[\"fuel\", \"transmission\"])",
   "id": "a43ad698c52cc966",
   "outputs": [],
   "execution_count": 9
  }
 ],
 "metadata": {
  "kernelspec": {
   "display_name": "Python 3",
   "language": "python",
   "name": "python3"
  },
  "language_info": {
   "codemirror_mode": {
    "name": "ipython",
    "version": 2
   },
   "file_extension": ".py",
   "mimetype": "text/x-python",
   "name": "python",
   "nbconvert_exporter": "python",
   "pygments_lexer": "ipython2",
   "version": "2.7.6"
  }
 },
 "nbformat": 4,
 "nbformat_minor": 5
}
